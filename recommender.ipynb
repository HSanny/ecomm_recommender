{
 "cells": [
  {
   "cell_type": "code",
   "execution_count": 1,
   "id": "7fe0b5a7",
   "metadata": {
    "scrolled": true
   },
   "outputs": [
    {
     "data": {
      "text/html": [
       "<div>\n",
       "<style scoped>\n",
       "    .dataframe tbody tr th:only-of-type {\n",
       "        vertical-align: middle;\n",
       "    }\n",
       "\n",
       "    .dataframe tbody tr th {\n",
       "        vertical-align: top;\n",
       "    }\n",
       "\n",
       "    .dataframe thead th {\n",
       "        text-align: right;\n",
       "    }\n",
       "</style>\n",
       "<table border=\"1\" class=\"dataframe\">\n",
       "  <thead>\n",
       "    <tr style=\"text-align: right;\">\n",
       "      <th></th>\n",
       "      <th>Unnamed: 0</th>\n",
       "      <th>name</th>\n",
       "      <th>main_category</th>\n",
       "      <th>sub_category</th>\n",
       "      <th>image</th>\n",
       "      <th>link</th>\n",
       "      <th>ratings</th>\n",
       "      <th>no_of_ratings</th>\n",
       "      <th>discount_price</th>\n",
       "      <th>actual_price</th>\n",
       "    </tr>\n",
       "  </thead>\n",
       "  <tbody>\n",
       "    <tr>\n",
       "      <th>0</th>\n",
       "      <td>0</td>\n",
       "      <td>Lloyd 1.5 Ton 3 Star Inverter Split Ac (5 In 1...</td>\n",
       "      <td>appliances</td>\n",
       "      <td>Air Conditioners</td>\n",
       "      <td>https://m.media-amazon.com/images/I/31UISB90sY...</td>\n",
       "      <td>https://www.amazon.in/Lloyd-Inverter-Convertib...</td>\n",
       "      <td>4.2</td>\n",
       "      <td>2,255</td>\n",
       "      <td>₹32,999</td>\n",
       "      <td>₹58,990</td>\n",
       "    </tr>\n",
       "    <tr>\n",
       "      <th>1</th>\n",
       "      <td>1</td>\n",
       "      <td>LG 1.5 Ton 5 Star AI DUAL Inverter Split AC (C...</td>\n",
       "      <td>appliances</td>\n",
       "      <td>Air Conditioners</td>\n",
       "      <td>https://m.media-amazon.com/images/I/51JFb7FctD...</td>\n",
       "      <td>https://www.amazon.in/LG-Convertible-Anti-Viru...</td>\n",
       "      <td>4.2</td>\n",
       "      <td>2,948</td>\n",
       "      <td>₹46,490</td>\n",
       "      <td>₹75,990</td>\n",
       "    </tr>\n",
       "    <tr>\n",
       "      <th>2</th>\n",
       "      <td>2</td>\n",
       "      <td>LG 1 Ton 4 Star Ai Dual Inverter Split Ac (Cop...</td>\n",
       "      <td>appliances</td>\n",
       "      <td>Air Conditioners</td>\n",
       "      <td>https://m.media-amazon.com/images/I/51JFb7FctD...</td>\n",
       "      <td>https://www.amazon.in/LG-Inverter-Convertible-...</td>\n",
       "      <td>4.2</td>\n",
       "      <td>1,206</td>\n",
       "      <td>₹34,490</td>\n",
       "      <td>₹61,990</td>\n",
       "    </tr>\n",
       "    <tr>\n",
       "      <th>3</th>\n",
       "      <td>3</td>\n",
       "      <td>LG 1.5 Ton 3 Star AI DUAL Inverter Split AC (C...</td>\n",
       "      <td>appliances</td>\n",
       "      <td>Air Conditioners</td>\n",
       "      <td>https://m.media-amazon.com/images/I/51JFb7FctD...</td>\n",
       "      <td>https://www.amazon.in/LG-Convertible-Anti-Viru...</td>\n",
       "      <td>4.0</td>\n",
       "      <td>69</td>\n",
       "      <td>₹37,990</td>\n",
       "      <td>₹68,990</td>\n",
       "    </tr>\n",
       "    <tr>\n",
       "      <th>4</th>\n",
       "      <td>4</td>\n",
       "      <td>Carrier 1.5 Ton 3 Star Inverter Split AC (Copp...</td>\n",
       "      <td>appliances</td>\n",
       "      <td>Air Conditioners</td>\n",
       "      <td>https://m.media-amazon.com/images/I/41lrtqXPiW...</td>\n",
       "      <td>https://www.amazon.in/Carrier-Inverter-Split-C...</td>\n",
       "      <td>4.1</td>\n",
       "      <td>630</td>\n",
       "      <td>₹34,490</td>\n",
       "      <td>₹67,790</td>\n",
       "    </tr>\n",
       "  </tbody>\n",
       "</table>\n",
       "</div>"
      ],
      "text/plain": [
       "   Unnamed: 0                                               name  \\\n",
       "0           0  Lloyd 1.5 Ton 3 Star Inverter Split Ac (5 In 1...   \n",
       "1           1  LG 1.5 Ton 5 Star AI DUAL Inverter Split AC (C...   \n",
       "2           2  LG 1 Ton 4 Star Ai Dual Inverter Split Ac (Cop...   \n",
       "3           3  LG 1.5 Ton 3 Star AI DUAL Inverter Split AC (C...   \n",
       "4           4  Carrier 1.5 Ton 3 Star Inverter Split AC (Copp...   \n",
       "\n",
       "  main_category      sub_category  \\\n",
       "0    appliances  Air Conditioners   \n",
       "1    appliances  Air Conditioners   \n",
       "2    appliances  Air Conditioners   \n",
       "3    appliances  Air Conditioners   \n",
       "4    appliances  Air Conditioners   \n",
       "\n",
       "                                               image  \\\n",
       "0  https://m.media-amazon.com/images/I/31UISB90sY...   \n",
       "1  https://m.media-amazon.com/images/I/51JFb7FctD...   \n",
       "2  https://m.media-amazon.com/images/I/51JFb7FctD...   \n",
       "3  https://m.media-amazon.com/images/I/51JFb7FctD...   \n",
       "4  https://m.media-amazon.com/images/I/41lrtqXPiW...   \n",
       "\n",
       "                                                link ratings no_of_ratings  \\\n",
       "0  https://www.amazon.in/Lloyd-Inverter-Convertib...     4.2         2,255   \n",
       "1  https://www.amazon.in/LG-Convertible-Anti-Viru...     4.2         2,948   \n",
       "2  https://www.amazon.in/LG-Inverter-Convertible-...     4.2         1,206   \n",
       "3  https://www.amazon.in/LG-Convertible-Anti-Viru...     4.0            69   \n",
       "4  https://www.amazon.in/Carrier-Inverter-Split-C...     4.1           630   \n",
       "\n",
       "  discount_price actual_price  \n",
       "0        ₹32,999      ₹58,990  \n",
       "1        ₹46,490      ₹75,990  \n",
       "2        ₹34,490      ₹61,990  \n",
       "3        ₹37,990      ₹68,990  \n",
       "4        ₹34,490      ₹67,790  "
      ]
     },
     "execution_count": 1,
     "metadata": {},
     "output_type": "execute_result"
    }
   ],
   "source": [
    "import pandas as pd\n",
    "\n",
    "data = pd.read_csv('Amazon-Products.csv')\n",
    "\n",
    "data.head()"
   ]
  },
  {
   "cell_type": "code",
   "execution_count": 2,
   "id": "03773298",
   "metadata": {},
   "outputs": [
    {
     "data": {
      "text/html": [
       "<div>\n",
       "<style scoped>\n",
       "    .dataframe tbody tr th:only-of-type {\n",
       "        vertical-align: middle;\n",
       "    }\n",
       "\n",
       "    .dataframe tbody tr th {\n",
       "        vertical-align: top;\n",
       "    }\n",
       "\n",
       "    .dataframe thead th {\n",
       "        text-align: right;\n",
       "    }\n",
       "</style>\n",
       "<table border=\"1\" class=\"dataframe\">\n",
       "  <thead>\n",
       "    <tr style=\"text-align: right;\">\n",
       "      <th></th>\n",
       "      <th>Unnamed: 0</th>\n",
       "    </tr>\n",
       "  </thead>\n",
       "  <tbody>\n",
       "    <tr>\n",
       "      <th>count</th>\n",
       "      <td>551585.000000</td>\n",
       "    </tr>\n",
       "    <tr>\n",
       "      <th>mean</th>\n",
       "      <td>7006.200471</td>\n",
       "    </tr>\n",
       "    <tr>\n",
       "      <th>std</th>\n",
       "      <td>5740.835523</td>\n",
       "    </tr>\n",
       "    <tr>\n",
       "      <th>min</th>\n",
       "      <td>0.000000</td>\n",
       "    </tr>\n",
       "    <tr>\n",
       "      <th>25%</th>\n",
       "      <td>1550.000000</td>\n",
       "    </tr>\n",
       "    <tr>\n",
       "      <th>50%</th>\n",
       "      <td>5933.000000</td>\n",
       "    </tr>\n",
       "    <tr>\n",
       "      <th>75%</th>\n",
       "      <td>11482.000000</td>\n",
       "    </tr>\n",
       "    <tr>\n",
       "      <th>max</th>\n",
       "      <td>19199.000000</td>\n",
       "    </tr>\n",
       "  </tbody>\n",
       "</table>\n",
       "</div>"
      ],
      "text/plain": [
       "          Unnamed: 0\n",
       "count  551585.000000\n",
       "mean     7006.200471\n",
       "std      5740.835523\n",
       "min         0.000000\n",
       "25%      1550.000000\n",
       "50%      5933.000000\n",
       "75%     11482.000000\n",
       "max     19199.000000"
      ]
     },
     "execution_count": 2,
     "metadata": {},
     "output_type": "execute_result"
    }
   ],
   "source": [
    "# describe data\n",
    "data.describe()\n",
    "\n",
    "# if describe() is not showing typical statistical measures, e.g. median, mean, min, max\n",
    "# the dataset is containing mostly categorical or non-numerical data"
   ]
  },
  {
   "cell_type": "code",
   "execution_count": 3,
   "id": "460b35bf",
   "metadata": {},
   "outputs": [
    {
     "data": {
      "text/plain": [
       "Index(['Unnamed: 0', 'name', 'main_category', 'sub_category', 'image', 'link',\n",
       "       'ratings', 'no_of_ratings', 'discount_price', 'actual_price'],\n",
       "      dtype='object')"
      ]
     },
     "execution_count": 3,
     "metadata": {},
     "output_type": "execute_result"
    }
   ],
   "source": [
    "data.columns"
   ]
  },
  {
   "cell_type": "code",
   "execution_count": 4,
   "id": "dbb8c2f4",
   "metadata": {},
   "outputs": [
    {
     "name": "stdout",
     "output_type": "stream",
     "text": [
      "<class 'pandas.core.frame.DataFrame'>\n",
      "RangeIndex: 551585 entries, 0 to 551584\n",
      "Data columns (total 10 columns):\n",
      " #   Column          Non-Null Count   Dtype \n",
      "---  ------          --------------   ----- \n",
      " 0   Unnamed: 0      551585 non-null  int64 \n",
      " 1   name            551585 non-null  object\n",
      " 2   main_category   551585 non-null  object\n",
      " 3   sub_category    551585 non-null  object\n",
      " 4   image           551585 non-null  object\n",
      " 5   link            551585 non-null  object\n",
      " 6   ratings         375791 non-null  object\n",
      " 7   no_of_ratings   375791 non-null  object\n",
      " 8   discount_price  490422 non-null  object\n",
      " 9   actual_price    533772 non-null  object\n",
      "dtypes: int64(1), object(9)\n",
      "memory usage: 42.1+ MB\n"
     ]
    }
   ],
   "source": [
    "data.info()"
   ]
  },
  {
   "cell_type": "code",
   "execution_count": 5,
   "id": "0fff72d8",
   "metadata": {},
   "outputs": [
    {
     "name": "stdout",
     "output_type": "stream",
     "text": [
      "ratings           175794\n",
      "no_of_ratings     175794\n",
      "discount_price     61163\n",
      "actual_price       17813\n",
      "dtype: int64\n",
      "----------------------------\n",
      "ratings           31.870700\n",
      "no_of_ratings     31.870700\n",
      "discount_price    11.088590\n",
      "actual_price       3.229421\n",
      "dtype: float64\n"
     ]
    }
   ],
   "source": [
    "# identify missing values \n",
    "\n",
    "missing_values = data.isnull().sum()\n",
    "\n",
    "# display col with missing values\n",
    "print(missing_values[missing_values > 0])\n",
    "\n",
    "print('----------------------------')\n",
    "\n",
    "# display % of missing values for each col\n",
    "missing_percentage = (missing_values / len(data)) * 100\n",
    "\n",
    "print(missing_percentage[missing_percentage > 0])"
   ]
  },
  {
   "cell_type": "markdown",
   "id": "a68ce5ca",
   "metadata": {},
   "source": [
    "before deailing with missing values, theres a need to analyze the distribution of numerical column\n",
    "\n",
    "Filling missing values is chosen over removing them to preserve data integrity and prevent loss of important information.\n",
    "Mean imputation is used for normally distributed numerical data without outliers.\n",
    "Median imputation is used for skewed numerical data with outliers.\n",
    "Mode imputation is used for categorical data to ensure valid category values."
   ]
  },
  {
   "cell_type": "code",
   "execution_count": 6,
   "id": "109a0b95",
   "metadata": {},
   "outputs": [
    {
     "name": "stdout",
     "output_type": "stream",
     "text": [
      "Non-numeric values found in ratings:\n",
      "437       Get\n",
      "473       Get\n",
      "474       Get\n",
      "475       Get\n",
      "488       Get\n",
      "         ... \n",
      "551502    Get\n",
      "551504    Get\n",
      "551541    Get\n",
      "551550    Get\n",
      "551551    Get\n",
      "Name: ratings, Length: 6233, dtype: object\n",
      "Non-numeric values found in no_of_ratings:\n",
      "0                           2,255\n",
      "1                           2,948\n",
      "2                           1,206\n",
      "5                           1,666\n",
      "6                           1,097\n",
      "                   ...           \n",
      "551502    FREE Delivery by Amazon\n",
      "551504    FREE Delivery by Amazon\n",
      "551541    FREE Delivery by Amazon\n",
      "551550    FREE Delivery by Amazon\n",
      "551551    FREE Delivery by Amazon\n",
      "Name: no_of_ratings, Length: 36762, dtype: object\n",
      "Non-numeric values found in discount_price:\n",
      "0         ₹32,999\n",
      "1         ₹46,490\n",
      "2         ₹34,490\n",
      "3         ₹37,990\n",
      "4         ₹34,490\n",
      "           ...   \n",
      "551579       ₹711\n",
      "551580     ₹3,449\n",
      "551581     ₹1,199\n",
      "551582     ₹1,199\n",
      "551584     ₹1,039\n",
      "Name: discount_price, Length: 490422, dtype: object\n",
      "Non-numeric values found in actual_price:\n",
      "0         ₹58,990\n",
      "1         ₹75,990\n",
      "2         ₹61,990\n",
      "3         ₹68,990\n",
      "4         ₹67,790\n",
      "           ...   \n",
      "551579       ₹999\n",
      "551580     ₹4,599\n",
      "551581     ₹1,999\n",
      "551582     ₹1,999\n",
      "551584     ₹1,299\n",
      "Name: actual_price, Length: 533772, dtype: object\n"
     ]
    }
   ],
   "source": [
    "# while drawing distribution, we hit TypeError: Horizontal orientation requires numeric `x` variable.\n",
    "# this occur in `no_of_ratings` col, that means there exist non-empty value that are not numeric\n",
    "\n",
    "# list of columns to analyse\n",
    "columns_to_analyse = ['ratings', 'no_of_ratings','discount_price','actual_price']\n",
    "\n",
    "# func to indentify non-numeric values in a column\n",
    "def find_non_numeric(df, col):\n",
    "    # df[column].notna() returns a boolean series indicating non-NaN values\n",
    "    # pd.to_numeric(df[column], errors='coerce') converts the column to numeric values, setting non-numeric values to NaN\n",
    "    # isna() returns a boolean series indicating NaN values\n",
    "    # Combining these two conditions, we get non-numeric values that are not NaNs\n",
    "    non_numeric_values = df[col][df[col].notna() & pd.to_numeric(df[col], errors='coerce').isna()]\n",
    "    return non_numeric_values\n",
    "\n",
    "# check for non-numeric in each of the col\n",
    "for col in columns_to_analyse:\n",
    "    non_numeric = find_non_numeric(data, col)\n",
    "    if not non_numeric.empty:\n",
    "        print(f'Non-numeric values found in {col}:')\n",
    "        print(non_numeric)"
   ]
  },
  {
   "cell_type": "code",
   "execution_count": 7,
   "id": "1d9f0f94",
   "metadata": {},
   "outputs": [
    {
     "name": "stdout",
     "output_type": "stream",
     "text": [
      "Column: ratings, Non-numeric count: 6233, Percentage: 1.13%\n",
      "Column: no_of_ratings, Non-numeric count: 36762, Percentage: 6.66%\n",
      "Column: discount_price, Non-numeric count: 490422, Percentage: 88.91%\n",
      "Column: actual_price, Non-numeric count: 533772, Percentage: 96.77%\n"
     ]
    }
   ],
   "source": [
    "# count non-numeric values for each specific column\n",
    "\n",
    "def count_non_numeric_and_percentage(df, col):\n",
    "    non_numeric_values = find_non_numeric(df, col)\n",
    "    count = non_numeric_values.shape[0]\n",
    "    percentage = (count / len(df)) * 100\n",
    "    return count, percentage\n",
    "\n",
    "non_numeric_counts = {}\n",
    "for col in columns_to_analyse:\n",
    "    count, percentage = count_non_numeric_and_percentage(data, col)\n",
    "    non_numeric_counts[col] = {'count': count, 'percentage': percentage}\n",
    "    \n",
    "# display\n",
    "for col, val in non_numeric_counts.items():\n",
    "    print(f\"Column: {col}, Non-numeric count: {val['count']}, Percentage: {val['percentage']:.2f}%\")"
   ]
  },
  {
   "cell_type": "markdown",
   "id": "7ae24b27",
   "metadata": {},
   "source": [
    "By observation, non-numeric percentage of discount_price & actual_price are 88.91% and 96.77% respectively. NA percentage of discount_price & actual_price are 11.088590 and 3.229421.\n",
    "\n",
    "Since they compensate together as about 100%, we can say that discount_price & actual_price are either numeric values in string format or NA. Hence, to help in imputing NA values, and plotting distribution diagram, we will convert the price columns by removing currency symbol and commas from the price column, and convert them into numeric values\n"
   ]
  },
  {
   "cell_type": "code",
   "execution_count": 8,
   "id": "d89c8865",
   "metadata": {},
   "outputs": [
    {
     "name": "stdout",
     "output_type": "stream",
     "text": [
      "<class 'pandas.core.frame.DataFrame'>\n",
      "RangeIndex: 551585 entries, 0 to 551584\n",
      "Data columns (total 3 columns):\n",
      " #   Column          Non-Null Count   Dtype  \n",
      "---  ------          --------------   -----  \n",
      " 0   discount_price  490422 non-null  float64\n",
      " 1   actual_price    533772 non-null  float64\n",
      " 2   no_of_ratings   369558 non-null  float64\n",
      "dtypes: float64(3)\n",
      "memory usage: 12.6 MB\n",
      "None\n"
     ]
    },
    {
     "data": {
      "text/html": [
       "<div>\n",
       "<style scoped>\n",
       "    .dataframe tbody tr th:only-of-type {\n",
       "        vertical-align: middle;\n",
       "    }\n",
       "\n",
       "    .dataframe tbody tr th {\n",
       "        vertical-align: top;\n",
       "    }\n",
       "\n",
       "    .dataframe thead th {\n",
       "        text-align: right;\n",
       "    }\n",
       "</style>\n",
       "<table border=\"1\" class=\"dataframe\">\n",
       "  <thead>\n",
       "    <tr style=\"text-align: right;\">\n",
       "      <th></th>\n",
       "      <th>discount_price</th>\n",
       "      <th>actual_price</th>\n",
       "      <th>no_of_ratings</th>\n",
       "    </tr>\n",
       "  </thead>\n",
       "  <tbody>\n",
       "    <tr>\n",
       "      <th>0</th>\n",
       "      <td>32999.0</td>\n",
       "      <td>58990.0</td>\n",
       "      <td>2255.0</td>\n",
       "    </tr>\n",
       "    <tr>\n",
       "      <th>1</th>\n",
       "      <td>46490.0</td>\n",
       "      <td>75990.0</td>\n",
       "      <td>2948.0</td>\n",
       "    </tr>\n",
       "    <tr>\n",
       "      <th>2</th>\n",
       "      <td>34490.0</td>\n",
       "      <td>61990.0</td>\n",
       "      <td>1206.0</td>\n",
       "    </tr>\n",
       "    <tr>\n",
       "      <th>3</th>\n",
       "      <td>37990.0</td>\n",
       "      <td>68990.0</td>\n",
       "      <td>69.0</td>\n",
       "    </tr>\n",
       "    <tr>\n",
       "      <th>4</th>\n",
       "      <td>34490.0</td>\n",
       "      <td>67790.0</td>\n",
       "      <td>630.0</td>\n",
       "    </tr>\n",
       "  </tbody>\n",
       "</table>\n",
       "</div>"
      ],
      "text/plain": [
       "   discount_price  actual_price  no_of_ratings\n",
       "0         32999.0       58990.0         2255.0\n",
       "1         46490.0       75990.0         2948.0\n",
       "2         34490.0       61990.0         1206.0\n",
       "3         37990.0       68990.0           69.0\n",
       "4         34490.0       67790.0          630.0"
      ]
     },
     "execution_count": 8,
     "metadata": {},
     "output_type": "execute_result"
    }
   ],
   "source": [
    "import re\n",
    "\n",
    "def convert_price_column(df, col):\n",
    "    # remove currency symbols and comma\n",
    "    df[col] = df[col].apply(lambda x:re.sub(r'[₹,]', '', str(x)))\n",
    "    # convert to numeric\n",
    "    df[col] = pd.to_numeric(df[col], errors='coerce')\n",
    "    \n",
    "for col in ['discount_price', 'actual_price', 'no_of_ratings']:\n",
    "    convert_price_column(data, col)\n",
    "    \n",
    "print(data[['discount_price', 'actual_price','no_of_ratings']].info())\n",
    "data[['discount_price', 'actual_price','no_of_ratings']].head()"
   ]
  },
  {
   "cell_type": "code",
   "execution_count": 9,
   "id": "981a527b",
   "metadata": {},
   "outputs": [
    {
     "name": "stdout",
     "output_type": "stream",
     "text": [
      "Non-numeric values found in ratings:\n",
      "437       Get\n",
      "473       Get\n",
      "474       Get\n",
      "475       Get\n",
      "488       Get\n",
      "         ... \n",
      "551502    Get\n",
      "551504    Get\n",
      "551541    Get\n",
      "551550    Get\n",
      "551551    Get\n",
      "Name: ratings, Length: 6233, dtype: object\n"
     ]
    }
   ],
   "source": [
    "# check again for non-numeric \n",
    "\n",
    "for col in columns_to_analyse:\n",
    "    non_numeric = find_non_numeric(data, col)\n",
    "    if not non_numeric.empty:\n",
    "        print(f'Non-numeric values found in {col}:')\n",
    "        print(non_numeric)"
   ]
  },
  {
   "cell_type": "markdown",
   "id": "fae243af",
   "metadata": {},
   "source": [
    "For this, since the non-nummeric values are seemingly meaningless, I will just replaced them with NaN"
   ]
  },
  {
   "cell_type": "code",
   "execution_count": 10,
   "id": "0c948f52",
   "metadata": {},
   "outputs": [
    {
     "name": "stdout",
     "output_type": "stream",
     "text": [
      "ratings           0.0\n",
      "no_of_ratings     0.0\n",
      "actual_price      0.0\n",
      "discount_price    0.0\n",
      "dtype: float64\n"
     ]
    }
   ],
   "source": [
    "def fill_non_numeric_with_na(df, col):\n",
    "    non_numeric_values = df[col][df[col].notna() & pd.to_numeric(df[col], errors='coerce').isna()]\n",
    "    if not non_numeric_values.empty:\n",
    "        # replace with NaN\n",
    "        df[col] = pd.to_numeric(df[col], errors='coerce')\n",
    "        \n",
    "fill_non_numeric_with_na(data, 'ratings')\n",
    "\n",
    "print(data[['ratings', 'no_of_ratings','actual_price', 'discount_price']].apply(lambda x: find_non_numeric(data, x.name)).sum())"
   ]
  },
  {
   "cell_type": "markdown",
   "id": "d8d998ee",
   "metadata": {},
   "source": [
    "Done with non-numeric values. Continue with missing values."
   ]
  },
  {
   "cell_type": "code",
   "execution_count": 11,
   "id": "825fe8ad",
   "metadata": {},
   "outputs": [
    {
     "name": "stdout",
     "output_type": "stream",
     "text": [
      "ratings           182027\n",
      "no_of_ratings     182027\n",
      "discount_price     61163\n",
      "actual_price       17813\n",
      "dtype: int64\n",
      "----------------------------\n",
      "ratings           33.000716\n",
      "no_of_ratings     33.000716\n",
      "discount_price    11.088590\n",
      "actual_price       3.229421\n",
      "dtype: float64\n"
     ]
    }
   ],
   "source": [
    "# identify missing values \n",
    "\n",
    "missing_values = data.isnull().sum()\n",
    "\n",
    "# display col with missing values\n",
    "print(missing_values[missing_values > 0])\n",
    "\n",
    "print('----------------------------')\n",
    "\n",
    "# display % of missing values for each col\n",
    "missing_percentage = (missing_values / len(data)) * 100\n",
    "# :.2f}%\"\n",
    "print(missing_percentage[missing_percentage > 0])"
   ]
  },
  {
   "cell_type": "code",
   "execution_count": 12,
   "id": "38f9bc77",
   "metadata": {},
   "outputs": [
    {
     "data": {
      "image/png": "[encoded data removed]",
      "text/plain": [
       "<Figure size 1000x600 with 1 Axes>"
      ]
     },
     "metadata": {},
     "output_type": "display_data"
    },
    {
     "data": {
      "image/png": "[encoded data removed]",
      "text/plain": [
       "<Figure size 640x480 with 1 Axes>"
      ]
     },
     "metadata": {},
     "output_type": "display_data"
    }
   ],
   "source": [
    "import matplotlib.pyplot as plt\n",
    "import seaborn as sns\n",
    "\n",
    "# it can take time to plot multiple graph, start with ratings\n",
    "\n",
    "# visualization for ratings\n",
    "\n",
    "plt.figure(figsize = (10,6))\n",
    "sns.histplot(data['ratings'], kde = True)\n",
    "plt.title(f'Distribution of ratings')\n",
    "plt.show()\n",
    "    \n",
    "sns.boxplot(x=data['ratings'])\n",
    "plt.title(f'Box plot of ratings')\n",
    "plt.show()"
   ]
  },
  {
   "cell_type": "markdown",
   "id": "461bb68e",
   "metadata": {},
   "source": [
    "since from the box plot and the distribution curve, the data on ratings seems to be left skewed. We will use median imputation for missing value in ratings."
   ]
  },
  {
   "cell_type": "code",
   "execution_count": 13,
   "id": "a292ff6b",
   "metadata": {},
   "outputs": [
    {
     "name": "stdout",
     "output_type": "stream",
     "text": [
      "589547.0 1.0\n"
     ]
    }
   ],
   "source": [
    "data[['no_of_ratings']]\n",
    "\n",
    "ratings_null = pd.isnull(data['no_of_ratings'])\n",
    "data[ratings_null]\n",
    "\n",
    "print(data['no_of_ratings'].max(), data['no_of_ratings'].min())"
   ]
  },
  {
   "cell_type": "markdown",
   "id": "1328f24b",
   "metadata": {},
   "source": [
    "Since the huge difference and range make it hard to visualize, we will normalize the data.\n",
    "\n",
    "Common transformation: Logarithmic Transformation"
   ]
  },
  {
   "cell_type": "code",
   "execution_count": 14,
   "id": "91abf749",
   "metadata": {},
   "outputs": [],
   "source": [
    "import numpy as np\n",
    "\n",
    "data['log_no_of_ratings'] = np.log1p(data['no_of_ratings'])  # log1p is used to handle log(0)"
   ]
  },
  {
   "cell_type": "code",
   "execution_count": 15,
   "id": "e86a2bfd",
   "metadata": {},
   "outputs": [
    {
     "data": {
      "image/png": "[encoded data removed]",
      "text/plain": [
       "<Figure size 1000x600 with 1 Axes>"
      ]
     },
     "metadata": {},
     "output_type": "display_data"
    },
    {
     "data": {
      "image/png": "[encoded data removed]",
      "text/plain": [
       "<Figure size 1000x600 with 1 Axes>"
      ]
     },
     "metadata": {},
     "output_type": "display_data"
    }
   ],
   "source": [
    "# visualization for log_no_of_ratings\n",
    "\n",
    "plt.figure(figsize = (10,6))\n",
    "sns.histplot(data['log_no_of_ratings'], kde=True)\n",
    "plt.title(f'Distribution of log_no_of_ratings')\n",
    "plt.show()\n",
    "    \n",
    "plt.figure(figsize = (10,6))\n",
    "sns.boxplot(x=data['log_no_of_ratings'])\n",
    "plt.title(f'Box plot of log_no_of_ratings')\n",
    "plt.show()"
   ]
  },
  {
   "cell_type": "markdown",
   "id": "28387b20",
   "metadata": {},
   "source": [
    "no_of_ratings is right skewed, use median imputation"
   ]
  },
  {
   "cell_type": "code",
   "execution_count": 16,
   "id": "03849945",
   "metadata": {},
   "outputs": [
    {
     "data": {
      "image/png": "[encoded data removed]",
      "text/plain": [
       "<Figure size 1000x600 with 1 Axes>"
      ]
     },
     "metadata": {},
     "output_type": "display_data"
    },
    {
     "data": {
      "image/png": "[encoded data removed]",
      "text/plain": [
       "<Figure size 640x480 with 1 Axes>"
      ]
     },
     "metadata": {},
     "output_type": "display_data"
    }
   ],
   "source": [
    "# visualization for discount_price\n",
    "\n",
    "data['log_discount_price'] = np.log1p(data['discount_price'])\n",
    "\n",
    "plt.figure(figsize = (10,6))\n",
    "sns.histplot(data['log_discount_price'], kde = True)\n",
    "plt.title(f'Distribution of log_discount_price')\n",
    "plt.show()\n",
    "    \n",
    "sns.boxplot(x=data['log_discount_price'])\n",
    "plt.title(f'Box plot of log_discount_price')\n",
    "plt.show()"
   ]
  },
  {
   "cell_type": "code",
   "execution_count": 17,
   "id": "d25ad547",
   "metadata": {},
   "outputs": [
    {
     "data": {
      "image/png": "[encoded data removed]",
      "text/plain": [
       "<Figure size 1000x600 with 1 Axes>"
      ]
     },
     "metadata": {},
     "output_type": "display_data"
    },
    {
     "data": {
      "image/png": "[encoded data removed]",
      "text/plain": [
       "<Figure size 640x480 with 1 Axes>"
      ]
     },
     "metadata": {},
     "output_type": "display_data"
    }
   ],
   "source": [
    "# visualization for actual_price\n",
    "\n",
    "data['log_actual_price'] = np.log1p(data['actual_price'])\n",
    "\n",
    "plt.figure(figsize = (10,6))\n",
    "sns.histplot(data['log_actual_price'], kde = True)\n",
    "plt.title(f'Distribution of log_actual_price')\n",
    "plt.show()\n",
    "    \n",
    "sns.boxplot(x=data['log_actual_price'])\n",
    "plt.title(f'Box plot of log_actual_price')\n",
    "plt.show()"
   ]
  },
  {
   "cell_type": "markdown",
   "id": "50aac56e",
   "metadata": {},
   "source": [
    "Will be using Median Imputation for all missing values "
   ]
  },
  {
   "cell_type": "code",
   "execution_count": 18,
   "id": "9b5941a6",
   "metadata": {},
   "outputs": [],
   "source": [
    "for column in ['ratings', 'no_of_ratings', 'discount_price', 'actual_price']:\n",
    "    data[column].fillna(data[column].median(), inplace=True)"
   ]
  },
  {
   "cell_type": "code",
   "execution_count": 21,
   "id": "d3f68d44",
   "metadata": {},
   "outputs": [
    {
     "name": "stdout",
     "output_type": "stream",
     "text": [
      "0\n"
     ]
    }
   ],
   "source": [
    "# verify that there are no more missing values in `columns_to_analyse`\n",
    "\n",
    "print(data[columns_to_analyse].isnull().sum().sum())"
   ]
  },
  {
   "cell_type": "code",
   "execution_count": 23,
   "id": "b1d9b859",
   "metadata": {},
   "outputs": [
    {
     "name": "stdout",
     "output_type": "stream",
     "text": [
      "0\n"
     ]
    }
   ],
   "source": [
    "print(data.duplicated().sum())\n",
    "\n",
    "# drop duplicate rows \n",
    "# data.drop_duplicates(inplace=True)"
   ]
  },
  {
   "cell_type": "code",
   "execution_count": 25,
   "id": "d8696eec",
   "metadata": {},
   "outputs": [
    {
     "data": {
      "text/plain": [
       "0    0.557279\n",
       "1    0.557279\n",
       "2    0.557279\n",
       "3    0.234547\n",
       "4    0.395913\n",
       "Name: ratings, dtype: float64"
      ]
     },
     "execution_count": 25,
     "metadata": {},
     "output_type": "execute_result"
    }
   ],
   "source": [
    "# scale numeric features (ratings for collaborative filtering)\n",
    "\n",
    "from sklearn.preprocessing import StandardScaler\n",
    "\n",
    "# initialize the scaler\n",
    "scaler = StandardScaler()\n",
    "\n",
    "data['ratings'] = scaler.fit_transform(data[['ratings']])\n",
    "\n",
    "data['ratings'].head()"
   ]
  },
  {
   "cell_type": "code",
   "execution_count": 26,
   "id": "9ce80613",
   "metadata": {},
   "outputs": [
    {
     "name": "stdout",
     "output_type": "stream",
     "text": [
      "Non-string values in 'main_category':\n",
      "Series([], Name: main_category, dtype: object)\n",
      "\n",
      "Non-string values in 'sub_category':\n",
      "Series([], Name: sub_category, dtype: object)\n",
      "\n"
     ]
    }
   ],
   "source": [
    "# identify non-string values in a column\n",
    "def find_non_string_values(df, column):\n",
    "    non_string_values = df[column][~df[column].apply(lambda x: isinstance(x, str))]\n",
    "    return non_string_values\n",
    "\n",
    "# Check for non-string values in 'main_category' and 'sub_category'\n",
    "non_string_main_category = find_non_string_values(data, 'main_category')\n",
    "non_string_sub_category = find_non_string_values(data, 'sub_category')\n",
    "\n",
    "print(f\"Non-string values in 'main_category':\\n{non_string_main_category}\\n\")\n",
    "print(f\"Non-string values in 'sub_category':\\n{non_string_sub_category}\\n\")\n"
   ]
  },
  {
   "cell_type": "code",
   "execution_count": 28,
   "id": "890251c0",
   "metadata": {},
   "outputs": [
    {
     "name": "stderr",
     "output_type": "stream",
     "text": [
      "/Users/sanny/anaconda3/lib/python3.11/site-packages/sklearn/preprocessing/_encoders.py:972: FutureWarning: `sparse` was renamed to `sparse_output` in version 1.2 and will be removed in 1.4. `sparse_output` is ignored unless you leave `sparse` to its default value.\n",
      "  warnings.warn(\n"
     ]
    },
    {
     "data": {
      "text/html": [
       "<div>\n",
       "<style scoped>\n",
       "    .dataframe tbody tr th:only-of-type {\n",
       "        vertical-align: middle;\n",
       "    }\n",
       "\n",
       "    .dataframe tbody tr th {\n",
       "        vertical-align: top;\n",
       "    }\n",
       "\n",
       "    .dataframe thead th {\n",
       "        text-align: right;\n",
       "    }\n",
       "</style>\n",
       "<table border=\"1\" class=\"dataframe\">\n",
       "  <thead>\n",
       "    <tr style=\"text-align: right;\">\n",
       "      <th></th>\n",
       "      <th>Unnamed: 0</th>\n",
       "      <th>name</th>\n",
       "      <th>image</th>\n",
       "      <th>link</th>\n",
       "      <th>ratings</th>\n",
       "      <th>no_of_ratings</th>\n",
       "      <th>discount_price</th>\n",
       "      <th>actual_price</th>\n",
       "      <th>log_no_of_ratings</th>\n",
       "      <th>log_discount_price</th>\n",
       "      <th>...</th>\n",
       "      <th>sub_category_Toys Gifting Store</th>\n",
       "      <th>sub_category_Travel Accessories</th>\n",
       "      <th>sub_category_Travel Duffles</th>\n",
       "      <th>sub_category_Value Bazaar</th>\n",
       "      <th>sub_category_Wallets</th>\n",
       "      <th>sub_category_Washing Machines</th>\n",
       "      <th>sub_category_Watches</th>\n",
       "      <th>sub_category_Western Wear</th>\n",
       "      <th>sub_category_Women's Fashion</th>\n",
       "      <th>sub_category_Yoga</th>\n",
       "    </tr>\n",
       "  </thead>\n",
       "  <tbody>\n",
       "    <tr>\n",
       "      <th>0</th>\n",
       "      <td>0</td>\n",
       "      <td>Lloyd 1.5 Ton 3 Star Inverter Split Ac (5 In 1...</td>\n",
       "      <td>https://m.media-amazon.com/images/I/31UISB90sY...</td>\n",
       "      <td>https://www.amazon.in/Lloyd-Inverter-Convertib...</td>\n",
       "      <td>0.557279</td>\n",
       "      <td>2255.0</td>\n",
       "      <td>32999.0</td>\n",
       "      <td>58990.0</td>\n",
       "      <td>7.721349</td>\n",
       "      <td>10.404263</td>\n",
       "      <td>...</td>\n",
       "      <td>0.0</td>\n",
       "      <td>0.0</td>\n",
       "      <td>0.0</td>\n",
       "      <td>0.0</td>\n",
       "      <td>0.0</td>\n",
       "      <td>0.0</td>\n",
       "      <td>0.0</td>\n",
       "      <td>0.0</td>\n",
       "      <td>0.0</td>\n",
       "      <td>0.0</td>\n",
       "    </tr>\n",
       "    <tr>\n",
       "      <th>1</th>\n",
       "      <td>1</td>\n",
       "      <td>LG 1.5 Ton 5 Star AI DUAL Inverter Split AC (C...</td>\n",
       "      <td>https://m.media-amazon.com/images/I/51JFb7FctD...</td>\n",
       "      <td>https://www.amazon.in/LG-Convertible-Anti-Viru...</td>\n",
       "      <td>0.557279</td>\n",
       "      <td>2948.0</td>\n",
       "      <td>46490.0</td>\n",
       "      <td>75990.0</td>\n",
       "      <td>7.989221</td>\n",
       "      <td>10.747014</td>\n",
       "      <td>...</td>\n",
       "      <td>0.0</td>\n",
       "      <td>0.0</td>\n",
       "      <td>0.0</td>\n",
       "      <td>0.0</td>\n",
       "      <td>0.0</td>\n",
       "      <td>0.0</td>\n",
       "      <td>0.0</td>\n",
       "      <td>0.0</td>\n",
       "      <td>0.0</td>\n",
       "      <td>0.0</td>\n",
       "    </tr>\n",
       "    <tr>\n",
       "      <th>2</th>\n",
       "      <td>2</td>\n",
       "      <td>LG 1 Ton 4 Star Ai Dual Inverter Split Ac (Cop...</td>\n",
       "      <td>https://m.media-amazon.com/images/I/51JFb7FctD...</td>\n",
       "      <td>https://www.amazon.in/LG-Inverter-Convertible-...</td>\n",
       "      <td>0.557279</td>\n",
       "      <td>1206.0</td>\n",
       "      <td>34490.0</td>\n",
       "      <td>61990.0</td>\n",
       "      <td>7.095893</td>\n",
       "      <td>10.448454</td>\n",
       "      <td>...</td>\n",
       "      <td>0.0</td>\n",
       "      <td>0.0</td>\n",
       "      <td>0.0</td>\n",
       "      <td>0.0</td>\n",
       "      <td>0.0</td>\n",
       "      <td>0.0</td>\n",
       "      <td>0.0</td>\n",
       "      <td>0.0</td>\n",
       "      <td>0.0</td>\n",
       "      <td>0.0</td>\n",
       "    </tr>\n",
       "    <tr>\n",
       "      <th>3</th>\n",
       "      <td>3</td>\n",
       "      <td>LG 1.5 Ton 3 Star AI DUAL Inverter Split AC (C...</td>\n",
       "      <td>https://m.media-amazon.com/images/I/51JFb7FctD...</td>\n",
       "      <td>https://www.amazon.in/LG-Convertible-Anti-Viru...</td>\n",
       "      <td>0.234547</td>\n",
       "      <td>69.0</td>\n",
       "      <td>37990.0</td>\n",
       "      <td>68990.0</td>\n",
       "      <td>4.248495</td>\n",
       "      <td>10.545105</td>\n",
       "      <td>...</td>\n",
       "      <td>0.0</td>\n",
       "      <td>0.0</td>\n",
       "      <td>0.0</td>\n",
       "      <td>0.0</td>\n",
       "      <td>0.0</td>\n",
       "      <td>0.0</td>\n",
       "      <td>0.0</td>\n",
       "      <td>0.0</td>\n",
       "      <td>0.0</td>\n",
       "      <td>0.0</td>\n",
       "    </tr>\n",
       "    <tr>\n",
       "      <th>4</th>\n",
       "      <td>4</td>\n",
       "      <td>Carrier 1.5 Ton 3 Star Inverter Split AC (Copp...</td>\n",
       "      <td>https://m.media-amazon.com/images/I/41lrtqXPiW...</td>\n",
       "      <td>https://www.amazon.in/Carrier-Inverter-Split-C...</td>\n",
       "      <td>0.395913</td>\n",
       "      <td>630.0</td>\n",
       "      <td>34490.0</td>\n",
       "      <td>67790.0</td>\n",
       "      <td>6.447306</td>\n",
       "      <td>10.448454</td>\n",
       "      <td>...</td>\n",
       "      <td>0.0</td>\n",
       "      <td>0.0</td>\n",
       "      <td>0.0</td>\n",
       "      <td>0.0</td>\n",
       "      <td>0.0</td>\n",
       "      <td>0.0</td>\n",
       "      <td>0.0</td>\n",
       "      <td>0.0</td>\n",
       "      <td>0.0</td>\n",
       "      <td>0.0</td>\n",
       "    </tr>\n",
       "  </tbody>\n",
       "</table>\n",
       "<p>5 rows × 275 columns</p>\n",
       "</div>"
      ],
      "text/plain": [
       "   Unnamed: 0                                               name  \\\n",
       "0           0  Lloyd 1.5 Ton 3 Star Inverter Split Ac (5 In 1...   \n",
       "1           1  LG 1.5 Ton 5 Star AI DUAL Inverter Split AC (C...   \n",
       "2           2  LG 1 Ton 4 Star Ai Dual Inverter Split Ac (Cop...   \n",
       "3           3  LG 1.5 Ton 3 Star AI DUAL Inverter Split AC (C...   \n",
       "4           4  Carrier 1.5 Ton 3 Star Inverter Split AC (Copp...   \n",
       "\n",
       "                                               image  \\\n",
       "0  https://m.media-amazon.com/images/I/31UISB90sY...   \n",
       "1  https://m.media-amazon.com/images/I/51JFb7FctD...   \n",
       "2  https://m.media-amazon.com/images/I/51JFb7FctD...   \n",
       "3  https://m.media-amazon.com/images/I/51JFb7FctD...   \n",
       "4  https://m.media-amazon.com/images/I/41lrtqXPiW...   \n",
       "\n",
       "                                                link   ratings  no_of_ratings  \\\n",
       "0  https://www.amazon.in/Lloyd-Inverter-Convertib...  0.557279         2255.0   \n",
       "1  https://www.amazon.in/LG-Convertible-Anti-Viru...  0.557279         2948.0   \n",
       "2  https://www.amazon.in/LG-Inverter-Convertible-...  0.557279         1206.0   \n",
       "3  https://www.amazon.in/LG-Convertible-Anti-Viru...  0.234547           69.0   \n",
       "4  https://www.amazon.in/Carrier-Inverter-Split-C...  0.395913          630.0   \n",
       "\n",
       "   discount_price  actual_price  log_no_of_ratings  log_discount_price  ...  \\\n",
       "0         32999.0       58990.0           7.721349           10.404263  ...   \n",
       "1         46490.0       75990.0           7.989221           10.747014  ...   \n",
       "2         34490.0       61990.0           7.095893           10.448454  ...   \n",
       "3         37990.0       68990.0           4.248495           10.545105  ...   \n",
       "4         34490.0       67790.0           6.447306           10.448454  ...   \n",
       "\n",
       "   sub_category_Toys Gifting Store  sub_category_Travel Accessories  \\\n",
       "0                              0.0                              0.0   \n",
       "1                              0.0                              0.0   \n",
       "2                              0.0                              0.0   \n",
       "3                              0.0                              0.0   \n",
       "4                              0.0                              0.0   \n",
       "\n",
       "   sub_category_Travel Duffles  sub_category_Value Bazaar  \\\n",
       "0                          0.0                        0.0   \n",
       "1                          0.0                        0.0   \n",
       "2                          0.0                        0.0   \n",
       "3                          0.0                        0.0   \n",
       "4                          0.0                        0.0   \n",
       "\n",
       "   sub_category_Wallets  sub_category_Washing Machines  sub_category_Watches  \\\n",
       "0                   0.0                            0.0                   0.0   \n",
       "1                   0.0                            0.0                   0.0   \n",
       "2                   0.0                            0.0                   0.0   \n",
       "3                   0.0                            0.0                   0.0   \n",
       "4                   0.0                            0.0                   0.0   \n",
       "\n",
       "   sub_category_Western Wear  sub_category_Women's Fashion  sub_category_Yoga  \n",
       "0                        0.0                           0.0                0.0  \n",
       "1                        0.0                           0.0                0.0  \n",
       "2                        0.0                           0.0                0.0  \n",
       "3                        0.0                           0.0                0.0  \n",
       "4                        0.0                           0.0                0.0  \n",
       "\n",
       "[5 rows x 275 columns]"
      ]
     },
     "execution_count": 28,
     "metadata": {},
     "output_type": "execute_result"
    }
   ],
   "source": [
    "# categorical encoding \n",
    "\n",
    "# use TF-IDF Vectorization for text features \n",
    "# or\n",
    "# One-Hot Encoding for categorical features.\n",
    "\n",
    "from sklearn.preprocessing import OneHotEncoder\n",
    "\n",
    "# one-hot encoding for main_category & sub_category\n",
    "encoder = OneHotEncoder(sparse=False)\n",
    "encoded_features = encoder.fit_transform(data[['main_category', 'sub_category']])\n",
    "\n",
    "# create a df with the encoded features\n",
    "encoded_df = pd.DataFrame(\n",
    "    encoded_features, \n",
    "    columns=encoder.get_feature_names_out(['main_category', 'sub_category'])\n",
    ")\n",
    "\n",
    "# concatenate the encoded features with the original data\n",
    "data = pd.concat([data, encoded_df], axis=1)\n",
    "\n",
    "# Drop the original categorical columns\n",
    "data.drop(['main_category', 'sub_category'], axis=1, inplace=True)\n",
    "\n",
    "data.head()"
   ]
  },
  {
   "cell_type": "code",
   "execution_count": 35,
   "id": "4eea9746",
   "metadata": {},
   "outputs": [],
   "source": [
    "data = data.rename(columns={'Unnamed: 0':'index'})"
   ]
  },
  {
   "cell_type": "code",
   "execution_count": 36,
   "id": "1a8bab8f",
   "metadata": {},
   "outputs": [
    {
     "name": "stdout",
     "output_type": "stream",
     "text": [
      "   index                                               name   ratings  \\\n",
      "0      0  Lloyd 1.5 Ton 3 Star Inverter Split Ac (5 In 1...  0.557279   \n",
      "1      1  LG 1.5 Ton 5 Star AI DUAL Inverter Split AC (C...  0.557279   \n",
      "2      2  LG 1 Ton 4 Star Ai Dual Inverter Split Ac (Cop...  0.557279   \n",
      "3      3  LG 1.5 Ton 3 Star AI DUAL Inverter Split AC (C...  0.234547   \n",
      "4      4  Carrier 1.5 Ton 3 Star Inverter Split AC (Copp...  0.395913   \n",
      "\n",
      "   main_category_accessories  main_category_accessories  \\\n",
      "0                        0.0                        0.0   \n",
      "1                        0.0                        0.0   \n",
      "2                        0.0                        0.0   \n",
      "3                        0.0                        0.0   \n",
      "4                        0.0                        0.0   \n",
      "\n",
      "   main_category_appliances  main_category_appliances  \\\n",
      "0                       1.0                       1.0   \n",
      "1                       1.0                       1.0   \n",
      "2                       1.0                       1.0   \n",
      "3                       1.0                       1.0   \n",
      "4                       1.0                       1.0   \n",
      "\n",
      "   main_category_bags & luggage  main_category_bags & luggage  \\\n",
      "0                           0.0                           0.0   \n",
      "1                           0.0                           0.0   \n",
      "2                           0.0                           0.0   \n",
      "3                           0.0                           0.0   \n",
      "4                           0.0                           0.0   \n",
      "\n",
      "   main_category_beauty & health  ...  sub_category_Washing Machines  \\\n",
      "0                            0.0  ...                            0.0   \n",
      "1                            0.0  ...                            0.0   \n",
      "2                            0.0  ...                            0.0   \n",
      "3                            0.0  ...                            0.0   \n",
      "4                            0.0  ...                            0.0   \n",
      "\n",
      "   sub_category_Washing Machines  sub_category_Watches  sub_category_Watches  \\\n",
      "0                            0.0                   0.0                   0.0   \n",
      "1                            0.0                   0.0                   0.0   \n",
      "2                            0.0                   0.0                   0.0   \n",
      "3                            0.0                   0.0                   0.0   \n",
      "4                            0.0                   0.0                   0.0   \n",
      "\n",
      "   sub_category_Western Wear  sub_category_Western Wear  \\\n",
      "0                        0.0                        0.0   \n",
      "1                        0.0                        0.0   \n",
      "2                        0.0                        0.0   \n",
      "3                        0.0                        0.0   \n",
      "4                        0.0                        0.0   \n",
      "\n",
      "   sub_category_Women's Fashion  sub_category_Women's Fashion  \\\n",
      "0                           0.0                           0.0   \n",
      "1                           0.0                           0.0   \n",
      "2                           0.0                           0.0   \n",
      "3                           0.0                           0.0   \n",
      "4                           0.0                           0.0   \n",
      "\n",
      "   sub_category_Yoga  sub_category_Yoga  \n",
      "0                0.0                0.0  \n",
      "1                0.0                0.0  \n",
      "2                0.0                0.0  \n",
      "3                0.0                0.0  \n",
      "4                0.0                0.0  \n",
      "\n",
      "[5 rows x 267 columns]\n",
      "Index(['index', 'name', 'ratings', 'main_category_accessories',\n",
      "       'main_category_accessories', 'main_category_appliances',\n",
      "       'main_category_appliances', 'main_category_bags & luggage',\n",
      "       'main_category_bags & luggage', 'main_category_beauty & health',\n",
      "       ...\n",
      "       'sub_category_Washing Machines', 'sub_category_Washing Machines',\n",
      "       'sub_category_Watches', 'sub_category_Watches',\n",
      "       'sub_category_Western Wear', 'sub_category_Western Wear',\n",
      "       'sub_category_Women's Fashion', 'sub_category_Women's Fashion',\n",
      "       'sub_category_Yoga', 'sub_category_Yoga'],\n",
      "      dtype='object', length=267)\n"
     ]
    }
   ],
   "source": [
    "# List of columns to keep for content-based and collaborative filtering\n",
    "\n",
    "columns_to_keep = ['index', 'name', 'ratings'] + list(encoded_df.columns)\n",
    "\n",
    "# Drop irrelevant columns\n",
    "data = data[columns_to_keep]\n",
    "\n",
    "# Verify the DataFrame after dropping irrelevant columns\n",
    "print(data.head())\n",
    "print(data.columns)\n"
   ]
  },
  {
   "cell_type": "code",
   "execution_count": 37,
   "id": "c388f210",
   "metadata": {},
   "outputs": [
    {
     "name": "stdout",
     "output_type": "stream",
     "text": [
      "(551585, 165656)\n"
     ]
    }
   ],
   "source": [
    "# use TF-IDF vectorization \n",
    "# to transform the name column into a format suitable for computing similarities\n",
    "\n",
    "from sklearn.feature_extraction.text import TfidfVectorizer\n",
    "\n",
    "# Initialize the TF-IDF Vectorizer\n",
    "tfidf_vectorizer = TfidfVectorizer(stop_words='english')\n",
    "\n",
    "# Fit and transform the 'name' column\n",
    "tfidf_matrix = tfidf_vectorizer.fit_transform(data['name'])\n",
    "\n",
    "# Verify the shape of the TF-IDF matrix\n",
    "print(tfidf_matrix.shape)\n"
   ]
  },
  {
   "cell_type": "code",
   "execution_count": 38,
   "id": "b3aabbb4",
   "metadata": {},
   "outputs": [
    {
     "name": "stdout",
     "output_type": "stream",
     "text": [
      "(551585, 166184)\n"
     ]
    }
   ],
   "source": [
    "# combine TF-IDF with encoded main_category and sub_category\n",
    "import scipy.sparse as sp\n",
    "\n",
    "# Combine TF-IDF matrix with encoded categorical features\n",
    "encoded_columns = [col for col in data.columns if col.startswith('main_category_') or col.startswith('sub_category_')]\n",
    "encoded_matrix = data[encoded_columns].values\n",
    "\n",
    "# Stack the TF-IDF matrix and the encoded matrix horizontally\n",
    "combined_matrix = sp.hstack([tfidf_matrix, encoded_matrix], format='csr')\n",
    "\n",
    "# Verify the shape of the combined matrix\n",
    "print(combined_matrix.shape)"
   ]
  },
  {
   "cell_type": "code",
   "execution_count": null,
   "id": "3acbc4e5",
   "metadata": {},
   "outputs": [],
   "source": [
    "# compute the cosine similarity for content-based filtering \n",
    "from sklearn.metrics.pairwise import cosine_similarity\n",
    "\n",
    "# Compute the cosine similarity matrix\n",
    "cosine_sim = cosine_similarity(combined_matrix, combined_matrix)\n",
    "\n",
    "# Function to get content-based recommendations\n",
    "def get_content_based_recommendations(item_index, num_recommendations=5):\n",
    "    sim_scores = list(enumerate(cosine_sim[item_index]))\n",
    "    sim_scores = sorted(sim_scores, key=lambda x: x[1], reverse=True)\n",
    "    sim_scores = sim_scores[1:num_recommendations+1]\n",
    "    item_indices = [i[0] for i in sim_scores]\n",
    "    return data.iloc[item_indices]\n",
    "\n",
    "# Example usage\n",
    "print(get_content_based_recommendations(0))\n"
   ]
  },
  {
   "cell_type": "code",
   "execution_count": null,
   "id": "facccd9d",
   "metadata": {},
   "outputs": [],
   "source": [
    "from scipy.sparse.linalg import svds\n",
    "import numpy as np\n",
    "\n",
    "# Create a user-item matrix\n",
    "user_item_matrix = data.pivot(index='user_id', columns='item_id', values='ratings').fillna(0)\n",
    "\n",
    "# Perform SVD\n",
    "U, sigma, Vt = svds(user_item_matrix, k=50)\n",
    "\n",
    "# Convert sigma to a diagonal matrix\n",
    "sigma = np.diag(sigma)\n",
    "\n",
    "# Reconstruct the ratings matrix\n",
    "all_user_predicted_ratings = np.dot(np.dot(U, sigma), Vt)\n",
    "\n",
    "# Create a DataFrame for the predicted ratings\n",
    "predicted_ratings = pd.DataFrame(all_user_predicted_ratings, columns=user_item_matrix.columns)\n",
    "\n",
    "# Function to get collaborative filtering recommendations\n",
    "def get_collaborative_recommendations(user_id, num_recommendations=5):\n",
    "    user_row_number = user_item_matrix.index.get_loc(user_id)\n",
    "    sorted_user_predictions = predicted_ratings.iloc[user_row_number].sort_values(ascending=False)\n",
    "    recommended_items = sorted_user_predictions.head(num_recommendations).index\n",
    "    return data[data['item_id'].isin(recommended_items)]\n",
    "\n",
    "# Example usage\n",
    "print(get_collaborative_recommendations(user_id=1))\n"
   ]
  }
 ],
 "metadata": {
  "kernelspec": {
   "display_name": "Python 3 (ipykernel)",
   "language": "python",
   "name": "python3"
  },
  "language_info": {
   "codemirror_mode": {
    "name": "ipython",
    "version": 3
   },
   "file_extension": ".py",
   "mimetype": "text/x-python",
   "name": "python",
   "nbconvert_exporter": "python",
   "pygments_lexer": "ipython3",
   "version": "3.11.5"
  }
 },
 "nbformat": 4,
 "nbformat_minor": 5
}
